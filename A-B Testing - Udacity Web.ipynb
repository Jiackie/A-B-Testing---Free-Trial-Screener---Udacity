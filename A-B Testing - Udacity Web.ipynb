{
 "cells": [
  {
   "cell_type": "code",
   "execution_count": 1,
   "metadata": {},
   "outputs": [],
   "source": [
    "import pandas as pd\n",
    "from scipy.stats import norm\n",
    "import numpy as np"
   ]
  },
  {
   "cell_type": "markdown",
   "metadata": {},
   "source": [
    "# Summary "
   ]
  },
  {
   "cell_type": "markdown",
   "metadata": {},
   "source": [
    "A/B testing is a methodology used online when you want to test a feature or new product’s performance. Udacity plans to improve the entire enrolled student experience and coaches’ capacity to support students who are likely to complete the course by adding a time-spent-on-course feature (Free Trial Screener). This project aims at analyzing two versions of Udacity’s website (experience group and control group), and determine whether the new feature should be launched in order to reduce the number of students who left the free trial because of the time issue. This project includes metrics choice, measuring variability, sizing, sanity checks, analysis, recommendation, and the follow-up experiment. Data used in this project was given by Udacity. "
   ]
  },
  {
   "cell_type": "markdown",
   "metadata": {},
   "source": [
    "# Experiment Design "
   ]
  },
  {
   "cell_type": "markdown",
   "metadata": {},
   "source": [
    "#### Null Hypothesis: \n",
    "This approach might not significantly decrease the number of students who left the free trial because they don’t have enough time.\n",
    "#### Alternative Hypothesis: \n",
    "This approach will obviously reduce the free trial cancellation rate.\n"
   ]
  },
  {
   "cell_type": "markdown",
   "metadata": {},
   "source": [
    "## Metrics Choice "
   ]
  },
  {
   "cell_type": "markdown",
   "metadata": {},
   "source": [
    "### Invariant Metrics:\n",
    "Number of Cookies: The number of unique cookies to view the course overview page. \n",
    "Number of Clicks: The number of unique cookies to click the “Start Free Trial” button (which before the free trial screener is triggered). \n",
    "\n",
    "Click-Through-Probability: The number of unique cookies to click the “Start the trial” button divided by the number of unique cookies to view the course overview page. \n",
    "\n",
    "These three metrics won’t be affected by the screener approach because click the “Start” button has happened before the screener notice so that the users won’t be noticed differently yet. Also, cookies were assigned as the division of measure which means it should be randomly and equally split into both experience group and control group. Therefore, these are good invariant metrics but not evaluation metrics.\n"
   ]
  },
  {
   "cell_type": "markdown",
   "metadata": {},
   "source": [
    "### Evaluation Metrics:\n",
    "\n",
    "Gross Conversion: The number of user-ids to complete checkout and enroll in the free trial divided by the number of unique cookies to click the “Start” button.\n",
    "\n",
    "Net Conversion: The number of user-ids to remain enrolled past the 14 days boundary divided by the number of unique cookies to click the “Start” button.\n",
    "\n",
    "Retention: The number of user-ids to remain enrolled past the 14-day boundary divided by the number of user-ids to complete checkout. The retention is expected higher in experiment than the control group. \n",
    "\n",
    "Our goal is to reduce the number of users who couldn’t continue the course because of the time issue and improve the learning experience at the same time. Gross conversion is a good metric to track the number of users enrolled in the free trial and Net conversion metric could help us to check the number of users who still remain in the course. We can use the combination of Gross conversion and Net conversion metrics as evaluation metrics. The Gross conversion is expected to decrease and Net conversion is expected to increase or keep the same in the experiment group.\n"
   ]
  },
  {
   "cell_type": "markdown",
   "metadata": {},
   "source": [
    "### Unused Metrics:\n",
    "\n",
    "Number of User-id: The number of users who enroll in the free trial. This assumes that the fewer users enroll, the more users would complete the course because their education experiment improved and thus users are not equally distributed between the control and experiment groups. So, this could be a good metric but not an invariant metric. Since Gross conversion is more robust than number of user-id, we choose Gross conversion.\n"
   ]
  },
  {
   "cell_type": "markdown",
   "metadata": {},
   "source": [
    "## Measuring Standard Deviation"
   ]
  },
  {
   "cell_type": "markdown",
   "metadata": {},
   "source": [
    "The baseline information:"
   ]
  },
  {
   "cell_type": "code",
   "execution_count": 2,
   "metadata": {},
   "outputs": [],
   "source": [
    "baseline = {\"Cookies\":40000,\"Clicks\":3200,\"Enrollment\": 660, \"CTP\":0.08, \"GrossConversion\":0.20625,\"Retention\": 0.53,\"NetConversion\":0.109313}"
   ]
  },
  {
   "cell_type": "code",
   "execution_count": 3,
   "metadata": {},
   "outputs": [
    {
     "data": {
      "text/plain": [
       "{'Cookies': 40000,\n",
       " 'Clicks': 3200,\n",
       " 'Enrollment': 660,\n",
       " 'CTP': 0.08,\n",
       " 'GrossConversion': 0.20625,\n",
       " 'Retention': 0.53,\n",
       " 'NetConversion': 0.109313}"
      ]
     },
     "execution_count": 3,
     "metadata": {},
     "output_type": "execute_result"
    }
   ],
   "source": [
    "baseline"
   ]
  },
  {
   "cell_type": "markdown",
   "metadata": {},
   "source": [
    "Given 5000 cookies to view the course overview page per day:"
   ]
  },
  {
   "cell_type": "code",
   "execution_count": 4,
   "metadata": {},
   "outputs": [],
   "source": [
    "baseline['Cookies'] = 5000\n",
    "baseline['Clicks'] = baseline['Cookies'] * baseline['CTP']\n",
    "baseline['Enrollment'] = baseline['Clicks'] * baseline['GrossConversion']"
   ]
  },
  {
   "cell_type": "code",
   "execution_count": 5,
   "metadata": {},
   "outputs": [
    {
     "data": {
      "text/plain": [
       "{'Cookies': 5000,\n",
       " 'Clicks': 400.0,\n",
       " 'Enrollment': 82.5,\n",
       " 'CTP': 0.08,\n",
       " 'GrossConversion': 0.20625,\n",
       " 'Retention': 0.53,\n",
       " 'NetConversion': 0.109313}"
      ]
     },
     "execution_count": 5,
     "metadata": {},
     "output_type": "execute_result"
    }
   ],
   "source": [
    "baseline"
   ]
  },
  {
   "cell_type": "markdown",
   "metadata": {},
   "source": [
    "### Gross Conversion"
   ]
  },
  {
   "cell_type": "code",
   "execution_count": 6,
   "metadata": {},
   "outputs": [
    {
     "data": {
      "text/plain": [
       "0.020230604137049392"
      ]
     },
     "execution_count": 6,
     "metadata": {},
     "output_type": "execute_result"
    }
   ],
   "source": [
    "np.sqrt(baseline['GrossConversion']*(1-baseline['GrossConversion'])/baseline['Clicks'])"
   ]
  },
  {
   "cell_type": "markdown",
   "metadata": {},
   "source": [
    "###  Retention"
   ]
  },
  {
   "cell_type": "code",
   "execution_count": 7,
   "metadata": {},
   "outputs": [
    {
     "data": {
      "text/plain": [
       "0.054949012178509081"
      ]
     },
     "execution_count": 7,
     "metadata": {},
     "output_type": "execute_result"
    }
   ],
   "source": [
    "np.sqrt(baseline['Retention']*(1-baseline['Retention'])/baseline['Enrollment'])"
   ]
  },
  {
   "cell_type": "markdown",
   "metadata": {},
   "source": [
    "### Net Conversion"
   ]
  },
  {
   "cell_type": "code",
   "execution_count": 8,
   "metadata": {},
   "outputs": [
    {
     "data": {
      "text/plain": [
       "0.015601575884425905"
      ]
     },
     "execution_count": 8,
     "metadata": {},
     "output_type": "execute_result"
    }
   ],
   "source": [
    "np.sqrt(baseline['NetConversion']*(1-baseline['NetConversion'])/baseline['Clicks'])"
   ]
  },
  {
   "cell_type": "markdown",
   "metadata": {},
   "source": [
    "## Sizing"
   ]
  },
  {
   "cell_type": "markdown",
   "metadata": {},
   "source": [
    "### Number of Samples VS Power"
   ]
  },
  {
   "cell_type": "markdown",
   "metadata": {},
   "source": [
    "I didn’t use Bonferroni correction, because these metrics are more related and more likely to move at the same time which means it’s too conservative. \n",
    "\n",
    "Given alpha = 0.05, beta = 0.02. To calculate how many page views we need, we can use this [link](http://www.evanmiller.org/ab-testing/sample-size.html).\n",
    "\n",
    "| Metrics | p | d(min) | Sample Size | Pageviews |\n",
    "| --- | --- | --- | --- | --- |\n",
    "|Gross Conversion | 0.20625 | 0.01 | 25835 | 645875 |\n",
    "| Retention | 0.53 | 0.01 | 39115 | 4741212 |\n",
    "|Net Conversion | 0.1093125 | 0.0075 | 27413 | 685325 |\n",
    "\n",
    "\n",
    "Pageviews required is the maximum of pageviews of the selected evaluation metrics. Therefore, the pageviews we need is 4741212.\n"
   ]
  },
  {
   "cell_type": "markdown",
   "metadata": {},
   "source": [
    "### Duration vs. Exposure\n",
    "\n",
    "If we divert 100% users, we need 119 days for testing retention metric but 17 days for gross conversion and 18 days for net conversion. 119 Days is a really long time to run. Therefore, we only need 18 days to run the test with 100% diversion and 34 days for 50% diversion if we drop the retention metric. \n",
    "\n",
    "In general, this screener may cause a decrease of the users who plan to enroll. Considering the fact that we do not want to expose 100% of the traffic to the experiment, I would take 75% diversion for 23 days.\n"
   ]
  },
  {
   "cell_type": "markdown",
   "metadata": {},
   "source": [
    "# Experiment Analysis "
   ]
  },
  {
   "cell_type": "markdown",
   "metadata": {},
   "source": [
    "## Sanity Checks"
   ]
  },
  {
   "cell_type": "markdown",
   "metadata": {},
   "source": [
    "For the three invariant metrics that we choose at the beginning, given the 95% confidence interval for the value we expect to observe, we expect them equal diversion into the experiment and control group. "
   ]
  },
  {
   "cell_type": "code",
   "execution_count": 9,
   "metadata": {},
   "outputs": [],
   "source": [
    "cont = pd.read_csv(\"Final Project Results - Control.csv\")\n",
    "exp = pd.read_csv(\"Final Project Results - Experiment.csv\")"
   ]
  },
  {
   "cell_type": "code",
   "execution_count": 10,
   "metadata": {},
   "outputs": [
    {
     "data": {
      "text/html": [
       "<div>\n",
       "<style scoped>\n",
       "    .dataframe tbody tr th:only-of-type {\n",
       "        vertical-align: middle;\n",
       "    }\n",
       "\n",
       "    .dataframe tbody tr th {\n",
       "        vertical-align: top;\n",
       "    }\n",
       "\n",
       "    .dataframe thead th {\n",
       "        text-align: right;\n",
       "    }\n",
       "</style>\n",
       "<table border=\"1\" class=\"dataframe\">\n",
       "  <thead>\n",
       "    <tr style=\"text-align: right;\">\n",
       "      <th></th>\n",
       "      <th>Date</th>\n",
       "      <th>Pageviews</th>\n",
       "      <th>Clicks</th>\n",
       "      <th>Enrollments</th>\n",
       "      <th>Payments</th>\n",
       "    </tr>\n",
       "  </thead>\n",
       "  <tbody>\n",
       "    <tr>\n",
       "      <th>0</th>\n",
       "      <td>Sat, Oct 11</td>\n",
       "      <td>7723</td>\n",
       "      <td>687</td>\n",
       "      <td>134.0</td>\n",
       "      <td>70.0</td>\n",
       "    </tr>\n",
       "    <tr>\n",
       "      <th>1</th>\n",
       "      <td>Sun, Oct 12</td>\n",
       "      <td>9102</td>\n",
       "      <td>779</td>\n",
       "      <td>147.0</td>\n",
       "      <td>70.0</td>\n",
       "    </tr>\n",
       "    <tr>\n",
       "      <th>2</th>\n",
       "      <td>Mon, Oct 13</td>\n",
       "      <td>10511</td>\n",
       "      <td>909</td>\n",
       "      <td>167.0</td>\n",
       "      <td>95.0</td>\n",
       "    </tr>\n",
       "    <tr>\n",
       "      <th>3</th>\n",
       "      <td>Tue, Oct 14</td>\n",
       "      <td>9871</td>\n",
       "      <td>836</td>\n",
       "      <td>156.0</td>\n",
       "      <td>105.0</td>\n",
       "    </tr>\n",
       "    <tr>\n",
       "      <th>4</th>\n",
       "      <td>Wed, Oct 15</td>\n",
       "      <td>10014</td>\n",
       "      <td>837</td>\n",
       "      <td>163.0</td>\n",
       "      <td>64.0</td>\n",
       "    </tr>\n",
       "  </tbody>\n",
       "</table>\n",
       "</div>"
      ],
      "text/plain": [
       "          Date  Pageviews  Clicks  Enrollments  Payments\n",
       "0  Sat, Oct 11       7723     687        134.0      70.0\n",
       "1  Sun, Oct 12       9102     779        147.0      70.0\n",
       "2  Mon, Oct 13      10511     909        167.0      95.0\n",
       "3  Tue, Oct 14       9871     836        156.0     105.0\n",
       "4  Wed, Oct 15      10014     837        163.0      64.0"
      ]
     },
     "execution_count": 10,
     "metadata": {},
     "output_type": "execute_result"
    }
   ],
   "source": [
    "cont.head()"
   ]
  },
  {
   "cell_type": "code",
   "execution_count": 11,
   "metadata": {},
   "outputs": [
    {
     "data": {
      "text/html": [
       "<div>\n",
       "<style scoped>\n",
       "    .dataframe tbody tr th:only-of-type {\n",
       "        vertical-align: middle;\n",
       "    }\n",
       "\n",
       "    .dataframe tbody tr th {\n",
       "        vertical-align: top;\n",
       "    }\n",
       "\n",
       "    .dataframe thead th {\n",
       "        text-align: right;\n",
       "    }\n",
       "</style>\n",
       "<table border=\"1\" class=\"dataframe\">\n",
       "  <thead>\n",
       "    <tr style=\"text-align: right;\">\n",
       "      <th></th>\n",
       "      <th>Date</th>\n",
       "      <th>Pageviews</th>\n",
       "      <th>Clicks</th>\n",
       "      <th>Enrollments</th>\n",
       "      <th>Payments</th>\n",
       "    </tr>\n",
       "  </thead>\n",
       "  <tbody>\n",
       "    <tr>\n",
       "      <th>0</th>\n",
       "      <td>Sat, Oct 11</td>\n",
       "      <td>7716</td>\n",
       "      <td>686</td>\n",
       "      <td>105.0</td>\n",
       "      <td>34.0</td>\n",
       "    </tr>\n",
       "    <tr>\n",
       "      <th>1</th>\n",
       "      <td>Sun, Oct 12</td>\n",
       "      <td>9288</td>\n",
       "      <td>785</td>\n",
       "      <td>116.0</td>\n",
       "      <td>91.0</td>\n",
       "    </tr>\n",
       "    <tr>\n",
       "      <th>2</th>\n",
       "      <td>Mon, Oct 13</td>\n",
       "      <td>10480</td>\n",
       "      <td>884</td>\n",
       "      <td>145.0</td>\n",
       "      <td>79.0</td>\n",
       "    </tr>\n",
       "    <tr>\n",
       "      <th>3</th>\n",
       "      <td>Tue, Oct 14</td>\n",
       "      <td>9867</td>\n",
       "      <td>827</td>\n",
       "      <td>138.0</td>\n",
       "      <td>92.0</td>\n",
       "    </tr>\n",
       "    <tr>\n",
       "      <th>4</th>\n",
       "      <td>Wed, Oct 15</td>\n",
       "      <td>9793</td>\n",
       "      <td>832</td>\n",
       "      <td>140.0</td>\n",
       "      <td>94.0</td>\n",
       "    </tr>\n",
       "  </tbody>\n",
       "</table>\n",
       "</div>"
      ],
      "text/plain": [
       "          Date  Pageviews  Clicks  Enrollments  Payments\n",
       "0  Sat, Oct 11       7716     686        105.0      34.0\n",
       "1  Sun, Oct 12       9288     785        116.0      91.0\n",
       "2  Mon, Oct 13      10480     884        145.0      79.0\n",
       "3  Tue, Oct 14       9867     827        138.0      92.0\n",
       "4  Wed, Oct 15       9793     832        140.0      94.0"
      ]
     },
     "execution_count": 11,
     "metadata": {},
     "output_type": "execute_result"
    }
   ],
   "source": [
    "exp.head()"
   ]
  },
  {
   "cell_type": "markdown",
   "metadata": {},
   "source": [
    "####  Number of Cookies in Course Overview Page"
   ]
  },
  {
   "cell_type": "code",
   "execution_count": 12,
   "metadata": {},
   "outputs": [],
   "source": [
    "def zscore(alpha):\n",
    "    return norm.ppf(alpha)"
   ]
  },
  {
   "cell_type": "code",
   "execution_count": 13,
   "metadata": {},
   "outputs": [
    {
     "name": "stdout",
     "output_type": "stream",
     "text": [
      "The lower bound is:  0.498820413825\n",
      "The upper bound is:  0.501179586175\n",
      "The obeserved value is:  0.500639666881\n"
     ]
    }
   ],
   "source": [
    "p = 0.5\n",
    "alpha =0.05\n",
    "sd = np.sqrt(p *(1-p)/(cont.Pageviews.sum() + exp.Pageviews.sum()))\n",
    "print(\"The lower bound is: \", p-zscore(1-alpha/2)*sd)\n",
    "print(\"The upper bound is: \", p+zscore(1-alpha/2)*sd)\n",
    "print(\"The obeserved value is: \",cont.Pageviews.sum()/(exp.Pageviews.sum()+ cont.Pageviews.sum()) )"
   ]
  },
  {
   "cell_type": "markdown",
   "metadata": {},
   "source": [
    "The observed p is inside this range which means test passes for this metric."
   ]
  },
  {
   "cell_type": "markdown",
   "metadata": {},
   "source": [
    "#### Number of Cookies who clicked the Free Trial Button"
   ]
  },
  {
   "cell_type": "code",
   "execution_count": 14,
   "metadata": {},
   "outputs": [
    {
     "name": "stdout",
     "output_type": "stream",
     "text": [
      "The lower bound is:  0.495884571347\n",
      "The upper bound is:  0.504115428653\n",
      "The obeserved value is:  0.500467347407\n"
     ]
    }
   ],
   "source": [
    "p = 0.5\n",
    "alpha =0.05\n",
    "sd = np.sqrt(p *(1-p)/(cont.Clicks.sum() + exp.Clicks.sum()))\n",
    "print(\"The lower bound is: \", p-zscore(1-alpha/2)*sd)\n",
    "print(\"The upper bound is: \", p+zscore(1-alpha/2)*sd)\n",
    "print(\"The obeserved value is: \",cont.Clicks.sum()/(exp.Clicks.sum()+ cont.Clicks.sum()) )"
   ]
  },
  {
   "cell_type": "markdown",
   "metadata": {},
   "source": [
    "The observed p is inside this range which means test passes for this metric."
   ]
  },
  {
   "cell_type": "markdown",
   "metadata": {},
   "source": [
    "#### Click - Through - Probabiliyu of the Free Trial Button"
   ]
  },
  {
   "cell_type": "code",
   "execution_count": 15,
   "metadata": {
    "scrolled": true
   },
   "outputs": [
    {
     "name": "stdout",
     "output_type": "stream",
     "text": [
      "The lower bound is:  -0.00129565539024\n",
      "The upper bound is:  0.00129565539024\n",
      "The obeserved value is:  5.66270915869e-05\n"
     ]
    }
   ],
   "source": [
    "p = (exp.Clicks.sum()+ cont.Clicks.sum())/(exp.Pageviews.sum()+ cont.Pageviews.sum())\n",
    "alpha =0.05\n",
    "sd = np.sqrt(p *(1-p)*(1/cont.Pageviews.sum() + 1/exp.Pageviews.sum()))\n",
    "print(\"The lower bound is: \", -zscore(1-alpha/2)*sd)\n",
    "print(\"The upper bound is: \", +zscore(1-alpha/2)*sd)\n",
    "print(\"The obeserved value is: \",exp.Clicks.sum()/exp.Pageviews.sum()- cont.Clicks.sum()/cont.Pageviews.sum())"
   ]
  },
  {
   "cell_type": "markdown",
   "metadata": {},
   "source": [
    "According to the result, they all pass the sanity checks ([find here](https://docs.google.com/spreadsheets/d/14BpnIZ7t4qRmX-G7W89yZOgNfyje3aNWzpA4OVWNitM/edit#gid=0)).\n",
    "\n",
    "\n",
    "| Invariant Metrics | Lower Bound | Upper Bound | Observed | Pass? |\n",
    "| --- | --- | --- | --- | --- |\n",
    "|# of Cookies | 0.498820 | 0.502280 | 0.500640 | Yes |\n",
    "| # of Clicks| 0.495885 | 0.504115 | 0.500467 | Yes |\n",
    "|Click Through Probability | -0.001296 | 0.001296 | 0.000057 | Yes |\n",
    "\n",
    "\n"
   ]
  },
  {
   "cell_type": "markdown",
   "metadata": {},
   "source": [
    "## Result Analysis"
   ]
  },
  {
   "cell_type": "markdown",
   "metadata": {},
   "source": [
    "### Effect Size Test"
   ]
  },
  {
   "cell_type": "markdown",
   "metadata": {},
   "source": [
    "For each of your evaluation metrics, give a 95% confidence interval around the difference between the experiment and control groups. \n"
   ]
  },
  {
   "cell_type": "markdown",
   "metadata": {},
   "source": [
    "####  Gross Conversion"
   ]
  },
  {
   "cell_type": "code",
   "execution_count": 16,
   "metadata": {},
   "outputs": [
    {
     "name": "stdout",
     "output_type": "stream",
     "text": [
      "The lower bound is:  -0.0291232008875\n",
      "The upper bound is:  -0.0119865482732\n",
      "The obeserved value is:  -0.0205548745804\n"
     ]
    }
   ],
   "source": [
    "alpha =0.05\n",
    "\n",
    "exp_enroll = exp[~exp.Enrollments.isnull()].Enrollments.sum()\n",
    "exp_clicked = exp[~exp.Enrollments.isnull()].Clicks.sum()\n",
    "cont_enroll = cont[~cont.Enrollments.isnull()].Enrollments.sum()\n",
    "cont_clicked = cont[~cont.Enrollments.isnull()].Clicks.sum()\n",
    "d0 = exp_enroll/exp_clicked - cont_enroll/cont_clicked\n",
    "p = (exp_enroll + cont_enroll)/(exp_clicked + cont_clicked)\n",
    "sd = np.sqrt(p * (1-p) * (1/exp_clicked + 1/cont_clicked))\n",
    "\n",
    "print(\"The lower bound is: \", d0-zscore(1-alpha/2)*sd)\n",
    "print(\"The upper bound is: \", d0+zscore(1-alpha/2)*sd)\n",
    "print(\"The obeserved value is: \",d0)"
   ]
  },
  {
   "cell_type": "markdown",
   "metadata": {},
   "source": [
    "#### Net Conversion"
   ]
  },
  {
   "cell_type": "code",
   "execution_count": 17,
   "metadata": {},
   "outputs": [
    {
     "name": "stdout",
     "output_type": "stream",
     "text": [
      "The lower bound is:  -0.011604500678\n",
      "The upper bound is:  0.00185705532891\n",
      "The obeserved value is:  -0.00487372267454\n"
     ]
    }
   ],
   "source": [
    "alpha =0.05\n",
    "\n",
    "exp_pmt = exp[~exp.Enrollments.isnull()].Payments.sum()\n",
    "exp_clicked = exp[~exp.Enrollments.isnull()].Clicks.sum()\n",
    "cont_pmt = cont[~cont.Enrollments.isnull()].Payments.sum()\n",
    "cont_clicked = cont[~cont.Enrollments.isnull()].Clicks.sum()\n",
    "d0 = exp_pmt/exp_clicked - cont_pmt/cont_clicked\n",
    "p = (exp_pmt + cont_pmt)/(exp_clicked + cont_clicked)\n",
    "sd = np.sqrt(p * (1-p) * (1/exp_clicked + 1/cont_clicked))\n",
    "\n",
    "print(\"The lower bound is: \", d0-zscore(1-alpha/2)*sd)\n",
    "print(\"The upper bound is: \", d0+zscore(1-alpha/2)*sd)\n",
    "print(\"The obeserved value is: \",d0)"
   ]
  },
  {
   "cell_type": "markdown",
   "metadata": {},
   "source": [
    "![alt](interval.png \"Title\")\n",
    "\n",
    "According to our interval [result](https://docs.google.com/spreadsheets/d/14BpnIZ7t4qRmX-G7W89yZOgNfyje3aNWzpA4OVWNitM/edit?usp=sharing), Gross conversion is confidently significant change both statistically and practically. However, Net conversion is neither statistically nor statistically and practically significant. \n"
   ]
  },
  {
   "cell_type": "markdown",
   "metadata": {},
   "source": [
    "\n",
    "| Evaluation Metrics | Lower Bound | Upper Bound | d0 | Statistial Significance |Practical Significance\n",
    "| --- | --- | --- | --- | --- | --- |\n",
    "|Gross Conversion | -0.029123 | -0.011987 | -0.020555 | Yes | No |\n",
    "|Net Conversion | -0.011605 | 0.001857 | -0.004874 | Yes | No |\n",
    "\n"
   ]
  },
  {
   "cell_type": "markdown",
   "metadata": {},
   "source": [
    "### Sign Test"
   ]
  },
  {
   "cell_type": "markdown",
   "metadata": {},
   "source": [
    "Total days that we use to count for sign test:"
   ]
  },
  {
   "cell_type": "code",
   "execution_count": 18,
   "metadata": {},
   "outputs": [
    {
     "data": {
      "text/plain": [
       "23"
      ]
     },
     "execution_count": 18,
     "metadata": {},
     "output_type": "execute_result"
    }
   ],
   "source": [
    "exp[~exp.Enrollments.isnull()].Clicks.count()"
   ]
  },
  {
   "cell_type": "markdown",
   "metadata": {},
   "source": [
    "Total days with the positive change for Gross Conversion:"
   ]
  },
  {
   "cell_type": "code",
   "execution_count": 19,
   "metadata": {},
   "outputs": [
    {
     "data": {
      "text/plain": [
       "4"
      ]
     },
     "execution_count": 19,
     "metadata": {},
     "output_type": "execute_result"
    }
   ],
   "source": [
    "sum(exp[~exp.Enrollments.isnull()].Enrollments/exp[~exp.Enrollments.isnull()].Clicks > \n",
    "    cont[~cont.Enrollments.isnull()].Enrollments/cont[~cont.Enrollments.isnull()].Clicks)"
   ]
  },
  {
   "cell_type": "code",
   "execution_count": 20,
   "metadata": {},
   "outputs": [
    {
     "data": {
      "text/plain": [
       "10"
      ]
     },
     "execution_count": 20,
     "metadata": {},
     "output_type": "execute_result"
    }
   ],
   "source": [
    "sum(exp[~exp.Enrollments.isnull()].Payments/exp[~exp.Enrollments.isnull()].Clicks > \n",
    "    cont[~cont.Enrollments.isnull()].Payments/cont[~cont.Enrollments.isnull()].Clicks)"
   ]
  },
  {
   "cell_type": "markdown",
   "metadata": {},
   "source": [
    "We can use [calculator](https://www.graphpad.com/quickcalcs/binomial1/) to find the probability of # of days for the positive effect(\"success\")\n",
    "\n",
    "| Evaluation Metrics | # of Days w/ Positive Change | Total Days | P Value | Significance |\n",
    "| --- | --- | --- | --- | --- |\n",
    "|Gross Conversion | 4 | 23 | 0.0026 | Yes |\n",
    "|Net Conversion | 10 | 23 | 0.67764 | No |\n",
    "\n",
    "We got the same result as Effect size test had above.\n"
   ]
  },
  {
   "cell_type": "markdown",
   "metadata": {},
   "source": [
    "# Summary"
   ]
  },
  {
   "cell_type": "markdown",
   "metadata": {},
   "source": [
    "In the experiment, Udacity tested a change by dividing potential students into two group- experiment and control group. Students in the experiment group are asked how much time they had available to devote course if they want to start a free trial and students in the control group are continually enroll without any suggestion as usual. We use three invariant metrics for sanity check and two evaluation metrics for size and sign test check. Our expectation is to reduce the number of students who do not have enough time spending on Udacity study in order to increase the other student’s education experience which means we want a decrease in gross conversion and an increase in net conversion. We didn’t use Bonferroni correction because it is too conservative to have a reasonable alpha. In this case, the risk type I error (false positive) and type II errors (false negative) increase as the number of metrics increases, and change the final decision.\n",
    "\n",
    "Net conversion both fail the significant of effect size test and sign test whereas Gross conversion is significantly impacted by the new screener.\n",
    "\n",
    "We didn’t consider retention as our evaluation metrics because we may not get enough sample page views in a limited time.\n"
   ]
  },
  {
   "cell_type": "markdown",
   "metadata": {},
   "source": [
    "# Recommendation "
   ]
  },
  {
   "cell_type": "markdown",
   "metadata": {},
   "source": [
    "We expect to decrease the number of users who enroll in the free trial without significant reduction of the number of users who stay enrolled after 14-day. According to our data, there is a statistically and practically significant decrease in Gross conversion which matches our expectation. However, Net conversion indicates that the remaining users are no significant differences or even less than the control group. Considering this, my advice is not to launch this experiment.\n"
   ]
  },
  {
   "cell_type": "markdown",
   "metadata": {},
   "source": [
    "## Follow- Up Experiment"
   ]
  },
  {
   "cell_type": "markdown",
   "metadata": {},
   "source": [
    "In my opinion, I don’t think Net conversion is a perfect metric to measure the overall student experience because \n",
    "1.\tThe fewer students enroll the free trial means less potential students may stay in course after 14-day. \n",
    "2.\tThis experience is to improve the overall students’ experience, not just the new-enroll students’. Therefore, we may add some metrics that can test some metrics that include the whole group’s experience.\n",
    "\n",
    "There are two evaluation metrics I may consider using:\n",
    "\n",
    "##### Course Completion Conversion: \n",
    "That is, number of user-ids to complete the course divided by number of user-ids to enroll in the course.\n",
    "\n",
    "##### Course Drop Conversion: \n",
    "That is, number of user-ids who left the course divided by number of user-ids to enroll in the course.\n",
    "\n",
    "\n",
    "A variety of methods that could improve the overall student learning experience by reducing students who don’t have enough time. An ideal approach is that we can test a change where after student finish the 14-day free trial and summarize how much time they spent on devoting to the course per day on average and notice them this course usually require how many hours per day. If they spend less than the minimum suggestion, they will be asked if they still want to stay, otherwise, they will be encouraged to continue completing the course.\n",
    "\n",
    "The hypothesis is that student all have the opportunity to try the free trial course to learn if they are interested in this course and want to spend enough time to finish the course by reducing the number of students who are not have or willing to have more time on this course. If they already spend reasonable time on the course, Udacity will boost their enthusiasm and provide improved coach experience.\n",
    "\n",
    "Unit of Diversion: user-id\n",
    "Invariant Metrics: user-id\n",
    "Evaluation Metrics: \n",
    "Retention Conversion: the number of user-ids to remain enrolled past the 14-day boundary divided by the number of user-ids to complete the checkout and enroll the free trial.\n",
    "Second Payment Conversion: the number of user-ids to complete the second checkout divided by the number of user-ids to the number of user-ids to remain enrolled past the 14-day boundary before the time-spent-summary screener is triggered.\n",
    "\n"
   ]
  }
 ],
 "metadata": {
  "kernelspec": {
   "display_name": "Python 3",
   "language": "python",
   "name": "python3"
  },
  "language_info": {
   "codemirror_mode": {
    "name": "ipython",
    "version": 3
   },
   "file_extension": ".py",
   "mimetype": "text/x-python",
   "name": "python",
   "nbconvert_exporter": "python",
   "pygments_lexer": "ipython3",
   "version": "3.6.7"
  }
 },
 "nbformat": 4,
 "nbformat_minor": 2
}
